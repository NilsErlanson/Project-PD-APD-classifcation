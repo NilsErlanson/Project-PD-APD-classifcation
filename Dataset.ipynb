{
 "cells": [
  {
   "cell_type": "code",
   "execution_count": 1,
   "metadata": {},
   "outputs": [],
   "source": [
    "import os\n",
    "from sklearn.preprocessing import LabelEncoder\n",
    "from torch.utils.data import Dataset,DataLoader\n",
    "import torch\n",
    "import pandas as pd\n",
    "import numpy as np\n",
    "import nibabel as nib\n",
    "from nibabel import ecat"
   ]
  },
  {
   "cell_type": "code",
   "execution_count": 2,
   "metadata": {},
   "outputs": [],
   "source": [
    "class ScanDataSet(Dataset):\n",
    "    def __init__(self, image_root,label_root,filetype):\n",
    "        self.image_root = image_root\n",
    "        self.label_root = label_root\n",
    "        self.filetype = filetype #indicates which kind of scan, use \"\"\n",
    "        self.samples = []\n",
    "        \n",
    "        self.disease = LabelEncoder()\n",
    "        self._init_dataset()\n",
    "\n",
    "    def __len__(self):\n",
    "        return len(self.samples)\n",
    "\n",
    "    def __getitem__(self, idx):\n",
    "        scan, disease = self.samples[idx]\n",
    "        return scan,disease\n",
    "\n",
    "    def _init_dataset(self):\n",
    "        \n",
    "        #Read the disaese\n",
    "        tmp_df = pd.read_csv(self.label_root)\n",
    "        \n",
    "        labels = tmp_df.Label.astype(np.int64) #Integer labels\n",
    "        one_hot_encode = list()\n",
    "        for value in labels:\n",
    "            letter = [0 for _ in range(0,6)]\n",
    "            letter[value] = 1\n",
    "            one_hot_encode.append(letter)\n",
    "        diseases = np.array(one_hot_encode)\n",
    "        self.disease = diseases\n",
    "        \n",
    "        #Reads the scans\n",
    "        listFilesECAT = [] #create an empty list\n",
    "        for dirName, subdirList, fileList in os.walk(self.image_root):\n",
    "            for filename in fileList:\n",
    "                if self.filetype in filename.lower(): #check wheter the file's ECAT\n",
    "                    listFilesECAT.append(os.path.join(dirName, filename))\n",
    "        \n",
    "        listFilesECAT.sort()\n",
    "\n",
    "        refImg = ecat.load(listFilesECAT[0]).get_frame(0)\n",
    "\n",
    "        #Create an array to store the scans of all the patients\n",
    "        images = np.zeros((np.shape(refImg)[0],np.shape(refImg)[1],np.shape(refImg)[2]))\n",
    "        images = images[...,np.newaxis]\n",
    "        for nr in range(np.size(listFilesECAT)):\n",
    "            images = ecat.load(listFilesECAT[nr]).get_frame(0)\n",
    "            images = images[...,np.newaxis]\n",
    "            images = torch.from_numpy(images)\n",
    "            self.samples.append((images,diseases[nr,:]))\n",
    "                \n",
    "    "
   ]
  },
  {
   "cell_type": "code",
   "execution_count": 3,
   "metadata": {},
   "outputs": [],
   "source": [
    "def show_scan(sample,sliceNr=63):\n",
    "    image = sample[0]\n",
    "    label = sample[1]\n",
    "    \n",
    "    fig, axs = plt.subplots(2, 2, figsize=(10,10))\n",
    "\n",
    "    axs[0, 0].imshow(image[:,:,sliceNr]) #SUVr\n",
    "    axs[0, 0].set_title(['Patient 1: SUVr (PET) slice ', sliceNr])\n",
    "    axs[0, 1].imshow(images[:,:,sliceNr, (patient1-1)*2+1]) #rCBF\n",
    "    axs[0, 1].set_title(['Patient 1: rCBF (SPECT) slice ', sliceNr])\n",
    "    axs[1, 0].imshow(images[:,:,sliceNr, (patient2-1)*2]) #SUVr\n",
    "    axs[1, 0].set_title(['Patient 2: SUVr (PET) slice ', sliceNr])\n",
    "    axs[1, 1].imshow(images[:,:,sliceNr, (patient2-1)*2+1]) #rCBF\n",
    "    axs[1, 1].set_title(['Patient 2: rCBF (SPECT) slice ', sliceNr])"
   ]
  },
  {
   "cell_type": "code",
   "execution_count": 4,
   "metadata": {},
   "outputs": [],
   "source": [
    "image_root = 'projectfiles_PE2I/scans/ecat_scans/'\n",
    "label_root = 'projectfiles_PE2I/patientlist.csv'\n",
    "filetype = \"1.v\"\n",
    "dataset = ScanDataSet(image_root,label_root,filetype)\n",
    "\n",
    "dataloader = DataLoader(dataset, batch_size=4,\n",
    "                        shuffle=True, num_workers=4)"
   ]
  },
  {
   "cell_type": "code",
   "execution_count": 68,
   "metadata": {},
   "outputs": [
    {
     "name": "stdout",
     "output_type": "stream",
     "text": [
      "0 torch.Size([4, 128, 128, 128, 1]) torch.Size([4, 6])\n",
      "1 torch.Size([4, 128, 128, 128, 1]) torch.Size([4, 6])\n",
      "2 torch.Size([4, 128, 128, 128, 1]) torch.Size([4, 6])\n",
      "3 torch.Size([4, 128, 128, 128, 1]) torch.Size([4, 6])\n",
      "4 torch.Size([4, 128, 128, 128, 1]) torch.Size([4, 6])\n",
      "5 torch.Size([4, 128, 128, 128, 1]) torch.Size([4, 6])\n",
      "6 torch.Size([4, 128, 128, 128, 1]) torch.Size([4, 6])\n"
     ]
    }
   ],
   "source": [
    "for i_batch, sample_batched in enumerate(dataloader):\n",
    "    print(i_batch, sample_batched[0].size(),\n",
    "          sample_batched[1].size())"
   ]
  },
  {
   "cell_type": "code",
   "execution_count": 23,
   "metadata": {},
   "outputs": [
    {
     "name": "stdout",
     "output_type": "stream",
     "text": [
      "tensor(18.6005, dtype=torch.float64)\n"
     ]
    }
   ],
   "source": [
    "sample = dataset.__getitem__(7)\n",
    "print(torch.mean(sample[0]))\n"
   ]
  },
  {
   "cell_type": "code",
   "execution_count": 55,
   "metadata": {},
   "outputs": [],
   "source": [
    "import torchvision\n",
    "normData =torchvision.transforms.Normalize(Datasest,std=1)"
   ]
  },
  {
   "cell_type": "code",
   "execution_count": 56,
   "metadata": {},
   "outputs": [
    {
     "ename": "TypeError",
     "evalue": "'Normalize' object does not support indexing",
     "output_type": "error",
     "traceback": [
      "\u001b[0;31m---------------------------------------------------------------------------\u001b[0m",
      "\u001b[0;31mTypeError\u001b[0m                                 Traceback (most recent call last)",
      "\u001b[0;32m<ipython-input-56-e2a5e0ddc8b5>\u001b[0m in \u001b[0;36m<module>\u001b[0;34m\u001b[0m\n\u001b[0;32m----> 1\u001b[0;31m \u001b[0mnormData\u001b[0m\u001b[0;34m[\u001b[0m\u001b[0;36m0\u001b[0m\u001b[0;34m]\u001b[0m\u001b[0;34m\u001b[0m\u001b[0;34m\u001b[0m\u001b[0m\n\u001b[0m",
      "\u001b[0;31mTypeError\u001b[0m: 'Normalize' object does not support indexing"
     ]
    }
   ],
   "source": [
    "sam"
   ]
  }
 ],
 "metadata": {
  "kernelspec": {
   "display_name": "Python 3",
   "language": "python",
   "name": "python3"
  },
  "language_info": {
   "codemirror_mode": {
    "name": "ipython",
    "version": 3
   },
   "file_extension": ".py",
   "mimetype": "text/x-python",
   "name": "python",
   "nbconvert_exporter": "python",
   "pygments_lexer": "ipython3",
   "version": "3.6.8"
  }
 },
 "nbformat": 4,
 "nbformat_minor": 2
}
