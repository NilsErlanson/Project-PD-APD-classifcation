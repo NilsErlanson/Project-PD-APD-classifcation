{
 "cells": [
  {
   "cell_type": "code",
   "execution_count": 15,
   "metadata": {},
   "outputs": [],
   "source": [
    "import os\n",
    "from sklearn.preprocessing import LabelEncoder\n",
    "from torch.utils.data import Dataset\n",
    "import torch\n",
    "import pandas as pd\n",
    "import numpy as np\n",
    "import nibabel as nib\n",
    "from nibabel import ecat"
   ]
  },
  {
   "cell_type": "code",
   "execution_count": 32,
   "metadata": {},
   "outputs": [],
   "source": [
    "class ScanDataSet(Dataset):\n",
    "    def __init__(self, data_root,filetype):\n",
    "        self.data_root = data_root\n",
    "        self.filetype = filetype #indicates which kind of scan, use \"\"\n",
    "        self.samples = []\n",
    "        \n",
    "        self.disease = LabelEncoder()\n",
    "        self._init_dataset()\n",
    "\n",
    "    def __len__(self):\n",
    "        return len(self.samples)\n",
    "\n",
    "    def __getitem__(self, idx):\n",
    "        scan, disease = self.samples[idx]\n",
    "        return scan,disease\n",
    "\n",
    "    def _init_dataset(self):\n",
    "        \n",
    "        #Read the disaese\n",
    "        tmp_df = pd.read_csv('Projektarbete_PE2I/Patientlista-avid.csv')\n",
    "        \n",
    "        labels = tmp_df.Label.astype(np.int64) #Integer labels\n",
    "        one_hot_encode = list()\n",
    "        for value in labels:\n",
    "            letter = [0 for _ in range(0,6)]\n",
    "            letter[value] = 1\n",
    "            one_hot_encode.append(letter)\n",
    "        diseases = np.array(one_hot_encode)\n",
    "        self.disease = diseases\n",
    "        \n",
    "        #Reads the scans\n",
    "        listFilesECAT = [] #create an empty list\n",
    "        for dirName, subdirList, fileList in os.walk(self.data_root):\n",
    "            for filename in fileList:\n",
    "                if self.filetype in filename.lower(): #check wheter the file's ECAT\n",
    "                    listFilesECAT.append(os.path.join(dirName, filename))\n",
    "        \n",
    "        listFilesECAT.sort()\n",
    "\n",
    "        refImg = ecat.load(listFilesECAT[0]).get_frame(0)\n",
    "\n",
    "        #Create an array to store the scans of all the patients\n",
    "        images = np.zeros((np.shape(refImg)[0],np.shape(refImg)[1],np.shape(refImg)[2]))\n",
    "        images = images[...,np.newaxis]\n",
    "        for nr in range(np.size(listFilesECAT)):\n",
    "            images = ecat.load(listFilesECAT[nr]).get_frame(0)\n",
    "            images = images[...,np.newaxis]\n",
    "            self.samples.append((images,diseases[nr,:]))\n",
    "                \n",
    "    "
   ]
  },
  {
   "cell_type": "code",
   "execution_count": 33,
   "metadata": {},
   "outputs": [],
   "source": [
    "root = 'Projektarbete_PE2I/Parameterbilder/ecat'\n",
    "filetype = \"1.v\"\n",
    "Datasest = ScanDataSet(root,filetype)"
   ]
  },
  {
   "cell_type": "code",
   "execution_count": 35,
   "metadata": {},
   "outputs": [
    {
     "name": "stdout",
     "output_type": "stream",
     "text": [
      "(6,)\n"
     ]
    }
   ],
   "source": [
    "print(Datasest.__getitem__(5)[1].shape)"
   ]
  },
  {
   "cell_type": "code",
   "execution_count": null,
   "metadata": {},
   "outputs": [],
   "source": []
  }
 ],
 "metadata": {
  "kernelspec": {
   "display_name": "Python 3",
   "language": "python",
   "name": "python3"
  },
  "language_info": {
   "codemirror_mode": {
    "name": "ipython",
    "version": 3
   },
   "file_extension": ".py",
   "mimetype": "text/x-python",
   "name": "python",
   "nbconvert_exporter": "python",
   "pygments_lexer": "ipython3",
   "version": "3.6.8"
  }
 },
 "nbformat": 4,
 "nbformat_minor": 2
}
